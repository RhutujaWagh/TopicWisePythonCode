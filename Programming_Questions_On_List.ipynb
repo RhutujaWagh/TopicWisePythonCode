{
  "nbformat": 4,
  "nbformat_minor": 0,
  "metadata": {
    "colab": {
      "provenance": []
    },
    "kernelspec": {
      "name": "python3",
      "display_name": "Python 3"
    },
    "language_info": {
      "name": "python"
    }
  },
  "cells": [
    {
      "cell_type": "code",
      "source": [
        "''' 1) Python program to Convert key-values list to flat dictionary\n",
        "Input: { \"num\": [1, 2, 3], \"name\": ['Monica', 'Joey', 'Jane' ] }\n",
        "\n",
        "Output: {1: 'Monica', 2: 'Joey', 3: 'Jane'}'''\n",
        "\n",
        "# Using zip() Function\n",
        "\n",
        "dict1 = { \"num\": [1, 2, 3], \"name\": ['Monica', 'Joey', 'Jane' ] }\n",
        "print(\"Original Dictionary:\",dict1)\n",
        "\n",
        "f_dict = dict(zip(dict1[\"num\"],dict1[\"name\"]))\n",
        "print(\"Flatted Dictionary:\",f_dict)"
      ],
      "metadata": {
        "colab": {
          "base_uri": "https://localhost:8080/"
        },
        "id": "oV5O4s6TvqyT",
        "outputId": "cfecda9a-ad5e-4ff2-e287-78d2435d0c6e"
      },
      "execution_count": null,
      "outputs": [
        {
          "output_type": "stream",
          "name": "stdout",
          "text": [
            "Original Dictionary: {'num': [1, 2, 3], 'name': ['Monica', 'Joey', 'Jane']}\n",
            "Flatted Dictionary: {1: 'Monica', 2: 'Joey', 3: 'Jane'}\n"
          ]
        }
      ]
    },
    {
      "cell_type": "code",
      "execution_count": null,
      "metadata": {
        "colab": {
          "base_uri": "https://localhost:8080/"
        },
        "id": "gy68rIp0ofpL",
        "outputId": "9ac2640e-084a-4d79-bb56-8bfcbd7013e8"
      },
      "outputs": [
        {
          "output_type": "stream",
          "name": "stdout",
          "text": [
            "Before Swapping the list: [1, 2, 3, 4, 5]\n",
            "After Swapping the list: [5, 2, 3, 4, 1]\n"
          ]
        }
      ],
      "source": [
        "''' 2) Python program to interchange first and last elements in a list.\n",
        "Input : [1, 2, 3]\n",
        "Output : [3, 2, 1]'''\n",
        "\n",
        "# 1) By using a third variable for swapping the values present at index 0 and index n-1 where n is the size of the list.\n",
        "\n",
        "def swapFun(l1):\n",
        "  n = len(l1)\n",
        "  temp = l1[0]\n",
        "  l1[0] = l1[n-1]\n",
        "  l1[n-1] = temp\n",
        "  return l1\n",
        "\n",
        "list1 = [1, 2, 3, 4, 5]\n",
        "print(\"Before Swapping the list:\",list1)\n",
        "print(\"After Swapping the list:\",swapFun(list1))"
      ]
    },
    {
      "cell_type": "code",
      "source": [
        "# 2) By using a built-in pop() function to pop the first element and store it in a variable.\n",
        "\n",
        "def swapFun(l1):\n",
        "  first = l1.pop(0)\n",
        "  last = l1.pop(-1)\n",
        "  l1.insert(0,last)\n",
        "  l1.append(first)\n",
        "  return l1\n",
        "\n",
        "list1 = [1, 2, 3, 4, 5]\n",
        "print(\"Before Swapping the list:\",list1)\n",
        "print(\"After Swapping the list:\",swapFun(list1))"
      ],
      "metadata": {
        "colab": {
          "base_uri": "https://localhost:8080/"
        },
        "id": "oFfJ43gJruh4",
        "outputId": "dccc6bbf-524f-4c1b-fc8f-d2a5a4428426"
      },
      "execution_count": null,
      "outputs": [
        {
          "output_type": "stream",
          "name": "stdout",
          "text": [
            "Before Swapping the list: [1, 2, 3, 4, 5]\n",
            "After Swapping the list: [5, 2, 3, 4, 1]\n"
          ]
        }
      ]
    },
    {
      "cell_type": "code",
      "source": [
        "# 3) By using the concept of negative indexing to access the last element in the list.\n",
        "\n",
        "def swapFun(l1):\n",
        "  l1[0],l1[-1] = l1[-1],l1[0]\n",
        "  return l1\n",
        "\n",
        "list1 = [1, 2, 3, 4, 5]\n",
        "print(\"Before Swapping the list:\",list1)\n",
        "print(\"After Swapping the list:\",swapFun(list1))"
      ],
      "metadata": {
        "colab": {
          "base_uri": "https://localhost:8080/"
        },
        "id": "0suDdxxXr2rJ",
        "outputId": "d585617e-361a-4b70-f4eb-e5e2dc7e1e5f"
      },
      "execution_count": null,
      "outputs": [
        {
          "output_type": "stream",
          "name": "stdout",
          "text": [
            "Before Swapping the list: [1, 2, 3, 4, 5]\n",
            "After Swapping the list: [5, 2, 3, 4, 1]\n"
          ]
        }
      ]
    },
    {
      "cell_type": "code",
      "source": [
        "''' 3) Python Program To find length of list\n",
        "Input: [1, 3, 6, 8, 0, 9]\n",
        "\n",
        "Output: 6'''\n",
        "\n",
        "# 1) By using the Naive Method.\n",
        "\n",
        "def listLenght(l1):\n",
        "  counter = 0\n",
        "  for i in l1:\n",
        "    counter = counter+1;\n",
        "  return counter\n",
        "\n",
        "\n",
        "list1 = [1, 3, 6, 8, 0, 9]\n",
        "print(\"Length of the list:\",listLenght(list1))"
      ],
      "metadata": {
        "colab": {
          "base_uri": "https://localhost:8080/"
        },
        "id": "Ba-07BljwkJf",
        "outputId": "99c7a2d2-85f6-43c1-adb0-c6c56bd4aabf"
      },
      "execution_count": null,
      "outputs": [
        {
          "output_type": "stream",
          "name": "stdout",
          "text": [
            "Length of the list: 6\n"
          ]
        }
      ]
    },
    {
      "cell_type": "code",
      "source": [
        "# 2) Find Length Using len() Method\n",
        "\n",
        "def listLenght(l1):\n",
        "  return len(l1)\n",
        "\n",
        "list1 = [1, 3, 6, 8, 0, 9]\n",
        "print(\"Length of the list:\",listLenght(list1))"
      ],
      "metadata": {
        "colab": {
          "base_uri": "https://localhost:8080/"
        },
        "id": "vbX7e_VCxd4I",
        "outputId": "ca34d4bb-8653-4712-9088-9d8da550680b"
      },
      "execution_count": null,
      "outputs": [
        {
          "output_type": "stream",
          "name": "stdout",
          "text": [
            "Length of the list: 6\n"
          ]
        }
      ]
    },
    {
      "cell_type": "code",
      "source": [
        "''' 4) Python Program to check if element exists in list\n",
        "Input: [6, 22, 7, 3, 0, 11] element= 0\n",
        "\n",
        "Output: True'''\n",
        "\n",
        "# 1) comparing each element\n",
        "\n",
        "def check(l1,ele):\n",
        "  for i in l1:\n",
        "    if i == ele:\n",
        "      return True\n",
        "  return False\n",
        "\n",
        "\n",
        "list1 = [6, 22, 7, 3, 0, 11]\n",
        "element = 11\n",
        "\n",
        "print(\"check if\",element ,\"is in\",list1)\n",
        "print(check(list1,element))"
      ],
      "metadata": {
        "colab": {
          "base_uri": "https://localhost:8080/"
        },
        "id": "nvjrKP-Gxvmi",
        "outputId": "23ed0fd6-8ef4-4665-f741-7ff6c964797e"
      },
      "execution_count": null,
      "outputs": [
        {
          "output_type": "stream",
          "name": "stdout",
          "text": [
            "check if 11 is in [6, 22, 7, 3, 0, 11]\n",
            "True\n"
          ]
        }
      ]
    },
    {
      "cell_type": "code",
      "source": [
        "# 2) Find using in operator\n",
        "\n",
        "def check(l1,ele):\n",
        "  if ele in l1:\n",
        "    return True\n",
        "  else:\n",
        "    return False\n",
        "list1 = [6, 22, 7, 3, 0, 11]\n",
        "element = 11\n",
        "\n",
        "print(\"check if\",element ,\"is in\",list1)\n",
        "print(check(list1,element))\n"
      ],
      "metadata": {
        "colab": {
          "base_uri": "https://localhost:8080/"
        },
        "id": "a_VlfW5F0QrE",
        "outputId": "bcbbc757-65c8-49ae-ee5c-cc1a28e23cbc"
      },
      "execution_count": null,
      "outputs": [
        {
          "output_type": "stream",
          "name": "stdout",
          "text": [
            "check if 11 is in [6, 22, 7, 3, 0, 11]\n",
            "True\n"
          ]
        }
      ]
    },
    {
      "cell_type": "code",
      "source": [
        "# 3) Using count() Function\n",
        "\n",
        "def check(l1,ele):\n",
        "  c = l1.count(ele)\n",
        "  if c>0:\n",
        "    return True\n",
        "  else:\n",
        "    return False\n",
        "list1 = [6, 22, 7, 3, 0, 11]\n",
        "element = 11\n",
        "\n",
        "print(\"check if\",element ,\"is in\",list1)\n",
        "print(check(list1,element))\n"
      ],
      "metadata": {
        "colab": {
          "base_uri": "https://localhost:8080/"
        },
        "id": "A0k8qmwZ4XYl",
        "outputId": "468e0b39-96f2-4158-e9e2-1704914dd7c1"
      },
      "execution_count": null,
      "outputs": [
        {
          "output_type": "stream",
          "name": "stdout",
          "text": [
            "check if 11 is in [6, 22, 7, 3, 0, 11]\n",
            "True\n"
          ]
        }
      ]
    },
    {
      "cell_type": "code",
      "source": [
        "''' 5) Python program for Reversing a List\n",
        "Input: [ 'Study', 'tonight', 1]\n",
        "\n",
        "Output: [1, 'tonight', 'study']'''\n",
        "\n",
        "# 1) reverse() method\n",
        "\n",
        "list1 = [ 'Study', 'tonight', 1]\n",
        "\n",
        "print(\"Before the reverse:\",list1)\n",
        "list1.reverse()\n",
        "print(\"After the reverse:\",list1)\n"
      ],
      "metadata": {
        "colab": {
          "base_uri": "https://localhost:8080/"
        },
        "id": "Bq4jojUoawon",
        "outputId": "8d43deab-06e5-4c10-d1e0-d17d5cdc8678"
      },
      "execution_count": null,
      "outputs": [
        {
          "output_type": "stream",
          "name": "stdout",
          "text": [
            "Before the reverse: ['Study', 'tonight', 1]\n",
            "After the reverse: [1, 'tonight', 'Study']\n"
          ]
        }
      ]
    },
    {
      "cell_type": "code",
      "source": [
        "# 2) accessing in reverse order\n",
        "\n",
        "list1 = [ 'Study', 'tonight', 1]\n",
        "\n",
        "print(\"Before the reverse:\",list1)\n",
        "print(\"After the reverse:\")\n",
        "for i in reversed(list1):\n",
        "  print(i)"
      ],
      "metadata": {
        "colab": {
          "base_uri": "https://localhost:8080/"
        },
        "id": "Q_oOH58scMEi",
        "outputId": "2e438439-a48a-4dd3-fad6-6e50adc8011a"
      },
      "execution_count": null,
      "outputs": [
        {
          "output_type": "stream",
          "name": "stdout",
          "text": [
            "Before the reverse: ['Study', 'tonight', 1]\n",
            "After the reverse:\n",
            "1\n",
            "tonight\n",
            "Study\n"
          ]
        }
      ]
    },
    {
      "cell_type": "code",
      "source": [
        "# 3) slicing in Python\n",
        "\n",
        "list1 = [ 'Study', 'tonight', 1]\n",
        "\n",
        "print(\"Before the reverse:\",list1)\n",
        "list2 = list1[: :-1]\n",
        "print(\"After the reverse:\",list2)"
      ],
      "metadata": {
        "colab": {
          "base_uri": "https://localhost:8080/"
        },
        "id": "RVNZNZVHdCpl",
        "outputId": "76e89e36-417c-493a-f6d9-09c8215cffac"
      },
      "execution_count": null,
      "outputs": [
        {
          "output_type": "stream",
          "name": "stdout",
          "text": [
            "Before the reverse: ['Study', 'tonight', 1]\n",
            "After the reverse: [1, 'tonight', 'Study']\n"
          ]
        }
      ]
    },
    {
      "cell_type": "code",
      "source": [
        "''' 6) Python program to find sum of elements in list\n",
        "Input: [6, 8, 12, 5, 3, 10]\n",
        "Output: 44'''\n",
        "\n",
        "# 1) By Using Loop\n",
        "\n",
        "def sumlist(list):\n",
        "    sum=0\n",
        "    for i in list:\n",
        "        sum = sum + i  \n",
        "    return sum\n",
        "\n",
        "list = [6, 8, 12, 5, 3, 10]\n",
        "print(list)\n",
        "print(\"sum of list: \",sumlist(list))\n",
        "  "
      ],
      "metadata": {
        "colab": {
          "base_uri": "https://localhost:8080/"
        },
        "id": "R6zXfnd1d_vy",
        "outputId": "30f3032a-fb2b-418d-bba5-ef0dd1b6c757"
      },
      "execution_count": null,
      "outputs": [
        {
          "output_type": "stream",
          "name": "stdout",
          "text": [
            "[6, 8, 12, 5, 3, 10]\n",
            "sum of list:  44\n"
          ]
        }
      ]
    },
    {
      "cell_type": "code",
      "source": [
        "# 2) Using math.fsum() Function\n",
        "import math\n",
        "def mul_list(list):\n",
        "     return math.prod(list)\n",
        "     \n",
        "\n",
        "list1 = [3, 2, 5, 4, 8, 9, 10]\n",
        "print(list1)\n",
        "print(\"product: \") \n",
        "print(mul_list(list1))\n",
        "import math\n",
        "def mul_list(list):\n",
        "     return int(math.fsum(list))\n",
        "     \n",
        "\n",
        "list1 = [3, 2, 5, 4, 8, 9, 10]\n",
        "print(list1)\n",
        "print(\"product: \") \n",
        "print(mul_list(list1))"
      ],
      "metadata": {
        "colab": {
          "base_uri": "https://localhost:8080/"
        },
        "id": "YEacqokDi9f0",
        "outputId": "20c20c4c-fbb4-44f7-f194-af9df0516c5f"
      },
      "execution_count": null,
      "outputs": [
        {
          "output_type": "stream",
          "name": "stdout",
          "text": [
            "[3, 2, 5, 4, 8, 9, 10]\n",
            "product: \n",
            "41\n"
          ]
        }
      ]
    },
    {
      "cell_type": "code",
      "source": [
        "''' 7) Python Program To Multiply all numbers in the list\n",
        "Input: list= [5, 3, 2, 7]\n",
        "Output: 210'''\n",
        "\n",
        "def mulList(list):\n",
        "  prod = 1\n",
        "  for i in list:\n",
        "    prod = prod * i\n",
        "  return prod\n",
        "\n",
        "list= [5, 3, 2, 7]\n",
        "print(list)\n",
        "print(\"product of list: \",mulList(list))\n"
      ],
      "metadata": {
        "colab": {
          "base_uri": "https://localhost:8080/"
        },
        "id": "NmbBOL6egUbT",
        "outputId": "74b352a2-bd05-4d27-8c67-0af00c6e8f15"
      },
      "execution_count": null,
      "outputs": [
        {
          "output_type": "stream",
          "name": "stdout",
          "text": [
            "[5, 3, 2, 7]\n",
            "product of list:  210\n"
          ]
        }
      ]
    },
    {
      "cell_type": "code",
      "source": [
        "# 2) Using math.prod() Function\n",
        "\n",
        "import math\n",
        "def mulList(list):\n",
        "     return math.prod(list)\n",
        "     \n",
        "\n",
        "list1 = [3, 2, 5, 4, 8, 9, 10]\n",
        "print(list1)\n",
        "print(\"product of list: \",mulList(list))"
      ],
      "metadata": {
        "colab": {
          "base_uri": "https://localhost:8080/"
        },
        "id": "qKdXAREWi3yb",
        "outputId": "76669884-a415-4897-e0a3-9c87ba061efa"
      },
      "execution_count": null,
      "outputs": [
        {
          "output_type": "stream",
          "name": "stdout",
          "text": [
            "[3, 2, 5, 4, 8, 9, 10]\n",
            "product of list:  86400\n"
          ]
        }
      ]
    },
    {
      "cell_type": "code",
      "source": [
        "# 3) Using numpy.prod() Function\n",
        "\n",
        "import numpy\n",
        "def mulList(list):\n",
        "     return numpy.prod(list)\n",
        "     \n",
        "\n",
        "list1 = [3, 2, 5, 4, 8, 9, 10]\n",
        "print(list1)\n",
        "print(\"product of list: \",mulList(list))"
      ],
      "metadata": {
        "colab": {
          "base_uri": "https://localhost:8080/"
        },
        "id": "-1wT8VqdkK-m",
        "outputId": "30cb9193-b4a9-4fad-b89b-266c80121b5b"
      },
      "execution_count": null,
      "outputs": [
        {
          "output_type": "stream",
          "name": "stdout",
          "text": [
            "[3, 2, 5, 4, 8, 9, 10]\n",
            "product of list:  86400\n"
          ]
        }
      ]
    },
    {
      "cell_type": "code",
      "source": [
        "''' 8) Python program to find smallest number in a list\n",
        "Input: [10, 3, 20, 9, 11, 15, 23, 6]\n",
        "\n",
        "Output: 3'''\n",
        "\n",
        "# 1) Comparing elements\n",
        "\n",
        "def smallEle(list1):\n",
        "  small = list1[0]\n",
        "  for i in list1:\n",
        "    if i < small:\n",
        "      small = i\n",
        "  return small\n",
        "\n",
        "list1 = [3, 2, 5, 4, 8, 9, 10,1]\n",
        "print(list1)\n",
        "print(\"smallest element of the list: \",smallEle(list1))"
      ],
      "metadata": {
        "colab": {
          "base_uri": "https://localhost:8080/"
        },
        "id": "Qrr-9g3QkjRR",
        "outputId": "5cec90fe-6084-4bbf-df69-dc7276631335"
      },
      "execution_count": null,
      "outputs": [
        {
          "output_type": "stream",
          "name": "stdout",
          "text": [
            "[3, 2, 5, 4, 8, 9, 10, 1]\n",
            "smallest element of the list:  1\n"
          ]
        }
      ]
    },
    {
      "cell_type": "code",
      "source": [
        "# 2) min() function\n",
        "\n",
        "def smallEle(list1):\n",
        "  smallele = min(list1)\n",
        "  return smallele\n",
        "\n",
        "list1 = []\n",
        "n = int(input(\"enter the size of the list:\"))\n",
        "for i in range(0,n):\n",
        "  ele = int(input(\"enter the element in list:\"))\n",
        "  list1.append(ele)\n",
        "\n",
        "print(\"smallest ele\",list1,\"is:\")\n",
        "print(smallEle(list1))\n"
      ],
      "metadata": {
        "id": "6iFXj22dott8",
        "colab": {
          "base_uri": "https://localhost:8080/"
        },
        "outputId": "2c878293-56dc-49e7-8c6c-a7bd2d84008f"
      },
      "execution_count": 4,
      "outputs": [
        {
          "output_type": "stream",
          "name": "stdout",
          "text": [
            "enter the size of the list:5\n",
            "enter the element in list:45\n",
            "enter the element in list:32\n",
            "enter the element in list:6\n",
            "enter the element in list:23\n",
            "enter the element in list:7\n",
            "smallest ele [45, 32, 6, 23, 7] is:\n",
            "6\n"
          ]
        }
      ]
    },
    {
      "cell_type": "code",
      "source": [
        "# 3) by sorting and printing the smallest number\n",
        "\n",
        "def smallEle(list1):\n",
        "  list1.sort()\n",
        "  return list1[0]\n",
        "\n",
        "list1 = [3, 2, 5, 4, 8, 9, 10,1]\n",
        "\n",
        "print(\"smallest ele\",list1,\"is:\")\n",
        "print(smallEle(list1))\n",
        "\n"
      ],
      "metadata": {
        "colab": {
          "base_uri": "https://localhost:8080/"
        },
        "id": "sLfgroMGYIb6",
        "outputId": "5ed096c5-2711-4992-e6d6-50ba83d44632"
      },
      "execution_count": 13,
      "outputs": [
        {
          "output_type": "stream",
          "name": "stdout",
          "text": [
            "smallest ele [3, 2, 5, 4, 8, 9, 10, 1] is:\n",
            "1\n"
          ]
        }
      ]
    },
    {
      "cell_type": "code",
      "source": [
        "''' 9) Python program to find largest number in a list\n",
        "\n",
        "Input: [10, 3, 20, 9, 11, 15, 23, 6]\n",
        "\n",
        "Output: 23'''\n",
        "\n",
        "# 1) Comparing elements\n",
        "\n",
        "def largeEle(list1):\n",
        "  large = list1[0]\n",
        "  for i in list1:\n",
        "    if i > large:\n",
        "      large = i\n",
        "  return large\n",
        "\n",
        "list1 = [10, 3, 20, 9, 11, 15, 23, 6]\n",
        "print(\"Largest element in\",list1,\"is:\")\n",
        "print(largeEle(list1))\n"
      ],
      "metadata": {
        "colab": {
          "base_uri": "https://localhost:8080/"
        },
        "id": "VA2sV-mBZKMG",
        "outputId": "61b87c8e-db25-4666-c41e-193c54d9ca82"
      },
      "execution_count": 7,
      "outputs": [
        {
          "output_type": "stream",
          "name": "stdout",
          "text": [
            "Largest element in [10, 3, 20, 9, 11, 15, 23, 6] is:\n",
            "23\n"
          ]
        }
      ]
    },
    {
      "cell_type": "code",
      "source": [
        "# 2) max() function\n",
        "\n",
        "def largeEle(list1):\n",
        "  large = max(list1)\n",
        "  return large\n",
        "  \n",
        "\n",
        "list1 = [10, 3, 20, 9, 11, 15, 23, 6]\n",
        "print(\"Largest element in\",list1,\"is:\")\n",
        "print(largeEle(list1))"
      ],
      "metadata": {
        "colab": {
          "base_uri": "https://localhost:8080/"
        },
        "id": "xV8nJ1scacJv",
        "outputId": "40ae3620-c01c-4df3-8242-cd6a6eb2fa7d"
      },
      "execution_count": 8,
      "outputs": [
        {
          "output_type": "stream",
          "name": "stdout",
          "text": [
            "Largest element in [10, 3, 20, 9, 11, 15, 23, 6] is:\n",
            "23\n"
          ]
        }
      ]
    },
    {
      "cell_type": "code",
      "source": [
        "# 3) by sorting and printing the smallest number\n",
        "\n",
        "def largeEle(list1):\n",
        "  list1.sort()\n",
        "  return list1[-1]\n",
        "\n",
        "list1 = [ ]\n",
        "n = int(input(\"enter the size of list:\"))\n",
        "for i in range(0,n):\n",
        "  ele = int(input(\"Enter the element in list:\"))\n",
        "  list1.append(ele)\n",
        "\n",
        "print(\"Largest element in\",list1,\"is:\")\n",
        "print(largeEle(list1))"
      ],
      "metadata": {
        "colab": {
          "base_uri": "https://localhost:8080/"
        },
        "id": "D_ZTLRH0aqR3",
        "outputId": "933ac306-462d-4c8c-dc9a-c38b2666570d"
      },
      "execution_count": 14,
      "outputs": [
        {
          "output_type": "stream",
          "name": "stdout",
          "text": [
            "enter the size of list:5\n",
            "Enter the element in list:45\n",
            "Enter the element in list:23\n",
            "Enter the element in list:67\n",
            "Enter the element in list:89\n",
            "Enter the element in list:32\n",
            "Largest element in [45, 23, 67, 89, 32] is:\n",
            "89\n"
          ]
        }
      ]
    },
    {
      "cell_type": "code",
      "source": [
        "''' 10) Python program to find second largest number in a list\n",
        "Input = [10, 3, 20, 9, 11, 15, 23, 6]\n",
        "Output 20\n",
        "'''\n",
        "\n",
        "# 1) Python program to find second largest number in a list\n",
        "\n",
        "def largeEle(list1):\n",
        "  large = max(list1)\n",
        "  list1.remove(large)\n",
        "  large = max(list1)\n",
        "  return large\n",
        "  \n",
        "\n",
        "list1 = [10, 3, 20, 9, 11, 15, 23, 6]\n",
        "print(\"Largest element in\",list1,\"is:\")\n",
        "print(largeEle(list1))"
      ],
      "metadata": {
        "colab": {
          "base_uri": "https://localhost:8080/"
        },
        "id": "VEBkZffvccEy",
        "outputId": "d779d023-3d66-4ef7-80e3-0829aeebe00d"
      },
      "execution_count": 15,
      "outputs": [
        {
          "output_type": "stream",
          "name": "stdout",
          "text": [
            "Largest element in [10, 3, 20, 9, 11, 15, 23, 6] is:\n",
            "20\n"
          ]
        }
      ]
    },
    {
      "cell_type": "code",
      "source": [
        "# 2) Find Second Largest\n",
        "\n",
        "def largeEle(list1):\n",
        "  list1.sort()\n",
        "  return list1[-2]\n",
        "\n",
        "list1 = [ ]\n",
        "n = int(input(\"enter the size of list:\"))\n",
        "for i in range(0,n):\n",
        "  ele = int(input(\"Enter the element in list:\"))\n",
        "  list1.append(ele)\n",
        "\n",
        "print(\"Largest element in\",list1,\"is:\")\n",
        "print(largeEle(list1))\n"
      ],
      "metadata": {
        "colab": {
          "base_uri": "https://localhost:8080/"
        },
        "id": "c-hTN9K3c44e",
        "outputId": "f29eb23d-539c-4afc-84f1-1a33ccee379d"
      },
      "execution_count": 16,
      "outputs": [
        {
          "output_type": "stream",
          "name": "stdout",
          "text": [
            "enter the size of list:5\n",
            "Enter the element in list:45\n",
            "Enter the element in list:32\n",
            "Enter the element in list:5\n",
            "Enter the element in list:78\n",
            "Enter the element in list:0\n",
            "Largest element in [45, 32, 5, 78, 0] is:\n",
            "45\n"
          ]
        }
      ]
    },
    {
      "cell_type": "code",
      "source": [
        "''' 11) Python program to print even numbers in a list\n",
        "Input: [7, 4, 9, 3, 5, 1, 2, 12]\n",
        "\n",
        "Output: [4, 2, 12]'''\n",
        "\n",
        "\n",
        "def Even(list1):\n",
        "  newList = []\n",
        "  for i in list1:\n",
        "    if i % 2 == 0:\n",
        "      newList.append(i)\n",
        "  return newList\n",
        "\n",
        "list1 = [7, 4, 9, 3, 5, 1, 2, 12]\n",
        "print(\"Largest element in\",list1,\"is:\")\n",
        "print(Even(list1))\n",
        "      \n"
      ],
      "metadata": {
        "colab": {
          "base_uri": "https://localhost:8080/"
        },
        "id": "PFQdWSVvdarY",
        "outputId": "1dad8bc1-cc9e-4e74-ffc9-eb1199c24d01"
      },
      "execution_count": 21,
      "outputs": [
        {
          "output_type": "stream",
          "name": "stdout",
          "text": [
            "Largest element in [7, 4, 9, 3, 5, 1, 2, 12] is:\n",
            "[4, 2, 12]\n"
          ]
        }
      ]
    },
    {
      "cell_type": "code",
      "source": [
        "''' 12) Python program to print odd numbers in a List\n",
        "Input: [2, 7, 4, 10, 8, 6, 9]\n",
        "\n",
        "Output: [7, 9]'''\n",
        "\n",
        "def Odd(list1):\n",
        "  newList = []\n",
        "  for i in list1:\n",
        "    if i % 2 != 0:\n",
        "      newList.append(i)\n",
        "  return newList\n",
        "\n",
        "list1 = []\n",
        "n = int(input(\"Enter the size of list:\"))\n",
        "for i in range(0,n):\n",
        "  ele = int(input(\"Enter the element in the list:\"))\n",
        "  list1.append(ele)\n",
        "\n",
        "\n",
        "print(\"Largest element in\",list1,\"is:\")\n",
        "print(Odd(list1))"
      ],
      "metadata": {
        "colab": {
          "base_uri": "https://localhost:8080/"
        },
        "id": "jMZsYM48e-LH",
        "outputId": "31a0b836-8d3d-46da-fb07-5b0b1af924c1"
      },
      "execution_count": 23,
      "outputs": [
        {
          "output_type": "stream",
          "name": "stdout",
          "text": [
            "Enter the size of list:5\n",
            "Enter the element in the list:85\n",
            "Enter the element in the list:74\n",
            "Enter the element in the list:12\n",
            "Enter the element in the list:95\n",
            "Enter the element in the list:23\n",
            "Largest element in [85, 74, 12, 95, 23] is:\n",
            "[85, 95, 23]\n"
          ]
        }
      ]
    },
    {
      "cell_type": "code",
      "source": [
        "''' 13) Python program to print all even numbers in a range\n",
        "Input: lower limit= 4\n",
        "\n",
        "upper limit= 10\n",
        "\n",
        "Output: 4 6 8'''\n",
        "\n",
        "lower = int(input(\"Enter the lower range:\"))\n",
        "upper = int(input(\"Enter the upper range:\"))\n",
        "for i in range(lower,upper):\n",
        "  if i % 2 == 0:\n",
        "    print(i,end =\" \")"
      ],
      "metadata": {
        "colab": {
          "base_uri": "https://localhost:8080/"
        },
        "id": "9n7lo6O2e3sj",
        "outputId": "8a97ac97-68b4-4f35-fca8-b3ffc01154e2"
      },
      "execution_count": 24,
      "outputs": [
        {
          "output_type": "stream",
          "name": "stdout",
          "text": [
            "Enter the lower range:1\n",
            "Enter the upper range:10\n",
            "2 4 6 8 "
          ]
        }
      ]
    },
    {
      "cell_type": "code",
      "source": [
        "''' 14) Python program to print positive numbers in a list\n",
        "Input: [2, 6, -10, -3, 1, -9]\n",
        "\n",
        "Output: [2, 6, 1]'''\n",
        "\n",
        "# 1) traversing and checking\n",
        "\n",
        "list1 = [2, 6, -10, -3, 1, -9]\n",
        "print(\"Search the postitive number\",list1,\"in this list:\")\n",
        "list2 = []\n",
        "for i in list1:\n",
        "  if i >= 0:\n",
        "    list2.append(i)\n",
        "print(list2)\n"
      ],
      "metadata": {
        "colab": {
          "base_uri": "https://localhost:8080/"
        },
        "id": "VqJPqoUti-PM",
        "outputId": "b8f2abd6-e104-4de0-9d3c-00f8b5e4a371"
      },
      "execution_count": 28,
      "outputs": [
        {
          "output_type": "stream",
          "name": "stdout",
          "text": [
            "Search the postitive number [2, 6, -10, -3, 1, -9] in this list:\n",
            "[2, 6, 1]\n"
          ]
        }
      ]
    },
    {
      "cell_type": "code",
      "source": [
        "# 2) using list comprehension\n",
        "\n",
        "list1 = [2, 6, -10, -3, 1, -9]\n",
        "print(\"Search the postitive number\",list1,\"in this list:\")\n",
        "positive_num = [i for i in list1 if i >= 0]\n",
        "print(positive_num)\n"
      ],
      "metadata": {
        "colab": {
          "base_uri": "https://localhost:8080/"
        },
        "id": "9ZksqBRDzLhG",
        "outputId": "932c35e3-5120-4208-acd7-b58e9116cdfc"
      },
      "execution_count": 30,
      "outputs": [
        {
          "output_type": "stream",
          "name": "stdout",
          "text": [
            "Search the postitive number [2, 6, -10, -3, 1, -9] in this list:\n",
            "[2, 6, 1]\n"
          ]
        }
      ]
    },
    {
      "cell_type": "code",
      "source": [
        "# 3) using lambda function\n",
        "\n",
        "list1 = [2, 6, -10, -3, 1, -9]\n",
        "print(\"Search the postitive number\",list1,\"in this list:\")\n",
        "\n",
        "positive_num = list(filter(lambda x:(x >= 0),list1))\n",
        "print(positive_num)"
      ],
      "metadata": {
        "colab": {
          "base_uri": "https://localhost:8080/"
        },
        "id": "Ocr9V_as0vb_",
        "outputId": "95571424-e1fa-4281-fc77-b76398c5c413"
      },
      "execution_count": 31,
      "outputs": [
        {
          "output_type": "stream",
          "name": "stdout",
          "text": [
            "Search the postitive number [2, 6, -10, -3, 1, -9] in this list:\n",
            "[2, 6, 1]\n"
          ]
        }
      ]
    },
    {
      "cell_type": "code",
      "source": [
        "''' 15) Remove multiple elements from a list in Python\n",
        "Input: [10, 3, 12, 15, 5, 8]\n",
        "\n",
        "Output: [3, 12, 8]'''\n",
        "\n",
        "# 1) Iterating\n",
        "\n",
        "list1 = [10, 3, 12, 15, 5, 8]\n",
        "for i in list(list1):\n",
        "  if i % 5 == 0:\n",
        "    list1.remove(i)\n",
        "print(list1)"
      ],
      "metadata": {
        "colab": {
          "base_uri": "https://localhost:8080/"
        },
        "id": "eP0ePdxa12VQ",
        "outputId": "eb2a5ae9-f855-4989-fed3-5cb635216ac6"
      },
      "execution_count": 35,
      "outputs": [
        {
          "output_type": "stream",
          "name": "stdout",
          "text": [
            "[3, 12, 8]\n"
          ]
        }
      ]
    },
    {
      "cell_type": "code",
      "source": [
        "# 2) List Comprehension\n",
        "\n",
        "li = []\n",
        "n = int(input(\"Enter the size of list:\"))\n",
        "for i in range(0,n):\n",
        "  ele = int(input(\"Enter the list element:\"))\n",
        "  li.append(ele)\n",
        "\n",
        "li = [i for i in li if i % 5 != 0]\n",
        "print(li)"
      ],
      "metadata": {
        "colab": {
          "base_uri": "https://localhost:8080/"
        },
        "id": "diAzH3zq4DKg",
        "outputId": "c653654f-6b56-4eb5-9de9-02dd697b0993"
      },
      "execution_count": 36,
      "outputs": [
        {
          "output_type": "stream",
          "name": "stdout",
          "text": [
            "Enter the size of list:6\n",
            "Enter the list element:10\n",
            "Enter the list element:3\n",
            "Enter the list element:12\n",
            "Enter the list element:15\n",
            "Enter the list element:5\n",
            "Enter the list element:8\n",
            "[3, 12, 8]\n"
          ]
        }
      ]
    },
    {
      "cell_type": "code",
      "source": [
        "'''16) Remove Multiple elements from list by index range using del'''\n",
        "\n",
        "li = []\n",
        "n = int(input(\"Enter the size of list:\"))\n",
        "for i in range(0,n):\n",
        "  ele = int(input(\"Enter the list element:\"))\n",
        "  li.append(ele)\n",
        "\n",
        "del li[1:4]\n",
        "print(li)\n"
      ],
      "metadata": {
        "colab": {
          "base_uri": "https://localhost:8080/"
        },
        "id": "raVmrcfY44fj",
        "outputId": "dd433d9c-fc31-437a-9ee5-6f7d7476be53"
      },
      "execution_count": 37,
      "outputs": [
        {
          "output_type": "stream",
          "name": "stdout",
          "text": [
            "Enter the size of list:6\n",
            "Enter the list element:10\n",
            "Enter the list element:3\n",
            "Enter the list element:12\n",
            "Enter the list element:15\n",
            "Enter the list element:5\n",
            "Enter the list element:8\n",
            "[10, 5, 8]\n"
          ]
        }
      ]
    },
    {
      "cell_type": "code",
      "source": [
        "''' 17) Python Program To Cloning or Copying a list\n",
        "Input: Original list- [3, 6, 12, 14, 78, 24, 56]\n",
        "\n",
        "Output: After cloning- [3, 6, 12, 14, 78, 24, 56]'''\n",
        "\n",
        "# 1) By following the Slicing technique\n",
        "\n",
        "li = []\n",
        "n = int(input(\"Enter the size of list:\"))\n",
        "for i in range(0,n):\n",
        "  ele = int(input(\"Enter the list element:\"))\n",
        "  li.append(ele)\n",
        "print(\"Original List:\",li)\n",
        "li_copy = li[:]\n",
        "print(\"After Cloning:\",li_copy)\n"
      ],
      "metadata": {
        "colab": {
          "base_uri": "https://localhost:8080/"
        },
        "id": "8nlo7dWV5vm9",
        "outputId": "d9acb30c-8be1-4fb9-e448-2b59e1ded6c5"
      },
      "execution_count": 41,
      "outputs": [
        {
          "output_type": "stream",
          "name": "stdout",
          "text": [
            "Enter the size of list:5\n",
            "Enter the list element:3\n",
            "Enter the list element:4\n",
            "Enter the list element:3\n",
            "Enter the list element:1\n",
            "Enter the list element:2\n",
            "Original List: [3, 4, 3, 1, 2]\n",
            "After Cloning: [3, 4, 3, 1, 2]\n"
          ]
        }
      ]
    },
    {
      "cell_type": "code",
      "source": [
        "# 2) By using extend() method\n",
        "\n",
        "li = [3, 6, 12, 14, 78, 24, 56]\n",
        "print(\"Original List:\",li)\n",
        "li1 =[]\n",
        "li1.extend(li)\n",
        "print(\"After Cloning:\",li1)"
      ],
      "metadata": {
        "colab": {
          "base_uri": "https://localhost:8080/"
        },
        "id": "nkbHQo9w69qt",
        "outputId": "2f4e8536-4218-4092-87bb-05b5f6e2dfc2"
      },
      "execution_count": 42,
      "outputs": [
        {
          "output_type": "stream",
          "name": "stdout",
          "text": [
            "Original List: [3, 6, 12, 14, 78, 24, 56]\n",
            "After Cloning: [3, 6, 12, 14, 78, 24, 56]\n"
          ]
        }
      ]
    },
    {
      "cell_type": "code",
      "source": [
        "# 3) list()\n",
        "\n",
        "li = [3, 6, 12, 14, 78, 24, 56]\n",
        "print(\"Original List:\",li)\n",
        "li1 =list(li)\n",
        "print(\"After Cloning:\",li1)"
      ],
      "metadata": {
        "colab": {
          "base_uri": "https://localhost:8080/"
        },
        "id": "_ScnsHnU69eS",
        "outputId": "529f2aef-4df6-4203-9749-63a372a6d754"
      },
      "execution_count": 44,
      "outputs": [
        {
          "output_type": "stream",
          "name": "stdout",
          "text": [
            "Original List: [3, 6, 12, 14, 78, 24, 56]\n",
            "After Cloning: [3, 6, 12, 14, 78, 24, 56]\n"
          ]
        }
      ]
    },
    {
      "cell_type": "code",
      "source": [
        "# 4) list comprehension\n",
        "\n",
        "\n",
        "li = [3, 6, 12, 14, 78, 24, 56]\n",
        "print(\"Original List:\",li)\n",
        "li1 = [i for i in li ]\n",
        "print(\"After Cloning:\",li1)\n"
      ],
      "metadata": {
        "colab": {
          "base_uri": "https://localhost:8080/"
        },
        "id": "Jc8Jrwff8C7-",
        "outputId": "c23e3a67-85e4-494f-fefe-a38bf28ea99e"
      },
      "execution_count": 45,
      "outputs": [
        {
          "output_type": "stream",
          "name": "stdout",
          "text": [
            "Original List: [3, 6, 12, 14, 78, 24, 56]\n",
            "After Cloning: [3, 6, 12, 14, 78, 24, 56]\n"
          ]
        }
      ]
    },
    {
      "cell_type": "code",
      "source": [
        "# 5) append()\n",
        "\n",
        "li = [3, 6, 12, 14, 78, 24, 56]\n",
        "print(\"Original List:\",li)\n",
        "li1 = []\n",
        "for i in li:\n",
        "  li1.append(i)\n",
        "print(\"After Cloning:\",li1)"
      ],
      "metadata": {
        "colab": {
          "base_uri": "https://localhost:8080/"
        },
        "id": "JWqskT298buI",
        "outputId": "987d94b0-9508-45dc-dc25-b40773db0d1a"
      },
      "execution_count": 48,
      "outputs": [
        {
          "output_type": "stream",
          "name": "stdout",
          "text": [
            "Original List: [3, 6, 12, 14, 78, 24, 56]\n",
            "After Cloning: [3, 6, 12, 14, 78, 24, 56]\n"
          ]
        }
      ]
    },
    {
      "cell_type": "code",
      "source": [
        "# 6) copy()\n",
        "\n",
        "li = [3, 6, 12, 14, 78, 24, 56]\n",
        "print(\"Original List:\",li)\n",
        "li1 = li.copy()\n",
        "print(\"After Cloning:\",li1)"
      ],
      "metadata": {
        "colab": {
          "base_uri": "https://localhost:8080/"
        },
        "id": "8Zbhdyho9FyP",
        "outputId": "c759e9df-5cc5-4306-a392-eb4970078894"
      },
      "execution_count": 51,
      "outputs": [
        {
          "output_type": "stream",
          "name": "stdout",
          "text": [
            "Original List: [3, 6, 12, 14, 78, 24, 56]\n",
            "After Cloning: [3, 6, 12, 14, 78, 24, 56]\n"
          ]
        }
      ]
    },
    {
      "cell_type": "code",
      "source": [
        "'''Python Program to Count occurrences of an element in a list\n",
        "Input: list=[2, 4, 1, 7, 9, 10, 12, 17, 1] n=1\n",
        "\n",
        "Output: 2 ( 1 occurs 2 times in the list)'''\n",
        "\n",
        "# 1) loop and counter variable\n",
        "\n",
        "def count_occurence(li,n):\n",
        "  count = 0\n",
        "  for i in li:\n",
        "    if(i==n):\n",
        "      count = count+1\n",
        "  return count\n",
        "\n",
        "li = []\n",
        "n = int(input(\"Enter the size of list:\"))\n",
        "for i in range(0,n):\n",
        "  ele = int(input(\"Enter the list element:\"))\n",
        "  li.append(ele)\n",
        "print(\"Original list:\",li)\n",
        "\n",
        "x = int(input(\"enter ele which you want to search:\"))\n",
        "\n",
        "print(x,\"has occured\",count_occurence(li,x),\"times\")"
      ],
      "metadata": {
        "colab": {
          "base_uri": "https://localhost:8080/"
        },
        "id": "0nkBGsGk9bBx",
        "outputId": "18eb0dcf-dcfd-41d0-e786-cfa91176d71f"
      },
      "execution_count": 53,
      "outputs": [
        {
          "output_type": "stream",
          "name": "stdout",
          "text": [
            "Enter the size of list:6\n",
            "Enter the list element:3\n",
            "Enter the list element:2\n",
            "Enter the list element:3\n",
            "Enter the list element:1\n",
            "Enter the list element:3\n",
            "Enter the list element:2\n",
            "Original list: [3, 2, 3, 1, 3, 2]\n",
            "enter ele which you want to search:3\n",
            "3 has occured 3 times\n"
          ]
        }
      ]
    },
    {
      "cell_type": "code",
      "source": [
        "# 2) count()\n",
        "\n",
        "li = []\n",
        "n = int(input(\"Enter the size of list:\"))\n",
        "for i in range(0,n):\n",
        "  ele = int(input(\"Enter the list element:\"))\n",
        "  li.append(ele)\n",
        "print(\"Original list:\",li)\n",
        "\n",
        "x = int(input(\"enter ele which you want to search:\"))\n",
        "\n",
        "print(x,\"has occured\",li.count(x),\"times\")"
      ],
      "metadata": {
        "colab": {
          "base_uri": "https://localhost:8080/"
        },
        "id": "fS6HcWgR_7ce",
        "outputId": "c5657d4c-d630-4f7a-ced0-4621128ab61e"
      },
      "execution_count": 54,
      "outputs": [
        {
          "output_type": "stream",
          "name": "stdout",
          "text": [
            "Enter the size of list:5\n",
            "Enter the list element:2\n",
            "Enter the list element:3\n",
            "Enter the list element:4\n",
            "Enter the list element:3\n",
            "Enter the list element:2\n",
            "Original list: [2, 3, 4, 3, 2]\n",
            "enter ele which you want to search:2\n",
            "2 has occured 2 times\n"
          ]
        }
      ]
    }
  ]
}